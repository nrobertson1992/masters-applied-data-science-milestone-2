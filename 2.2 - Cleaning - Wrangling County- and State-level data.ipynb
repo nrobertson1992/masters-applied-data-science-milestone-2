{
 "cells": [
  {
   "cell_type": "markdown",
   "id": "d9a77284",
   "metadata": {},
   "source": [
    "source: https://www.ers.usda.gov/data-products/county-level-data-sets/\n",
    "* Poverty (folder)\n",
    "* Education (folder)\n",
    "* Unemployment (folder)\n",
    "\n",
    "source: https://www.playgroundequipment.com/us-states-ranked-by-state-and-national-park-coverage/\n",
    "* write data from infographic to Google Sheet (single file)"
   ]
  },
  {
   "cell_type": "markdown",
   "id": "27730d57",
   "metadata": {},
   "source": [
    "# Import packages"
   ]
  },
  {
   "cell_type": "code",
   "execution_count": 1,
   "id": "b406a53a",
   "metadata": {},
   "outputs": [],
   "source": [
    "import pandas as pd\n",
    "import numpy as np"
   ]
  },
  {
   "cell_type": "code",
   "execution_count": 2,
   "id": "a98f98ec",
   "metadata": {},
   "outputs": [],
   "source": [
    "states = ['Washington','Oregon','California','Idaho','Nevada','Utah',\n",
    "          'Arizona','Montana','Wyoming','Colorado','New Mexico']"
   ]
  },
  {
   "cell_type": "markdown",
   "id": "7c2d4332",
   "metadata": {},
   "source": [
    "# Helper function for reading in data"
   ]
  },
  {
   "cell_type": "code",
   "execution_count": 3,
   "id": "7cc343ab",
   "metadata": {},
   "outputs": [],
   "source": [
    "def filepath(state, folderpath):\n",
    "    lowercase_state = state.lower().replace(' ','')\n",
    "    filepath = folderpath + lowercase_state + '.xlsx'\n",
    "    return filepath  "
   ]
  },
  {
   "cell_type": "markdown",
   "id": "60f946d3",
   "metadata": {},
   "source": [
    "# Read in and clean education data"
   ]
  },
  {
   "cell_type": "code",
   "execution_count": 4,
   "id": "fcb22327",
   "metadata": {},
   "outputs": [],
   "source": [
    "education_df = []\n",
    "\n",
    "for state in states:\n",
    "    path = filepath(state, 'usda/education/')\n",
    "    frame = pd.read_excel(path)\n",
    "    frame.columns = frame.iloc[1]\n",
    "    frame['state'] = state\n",
    "\n",
    "    education_df.append(frame[3:])\n",
    "    \n",
    "education_df = pd.concat(education_df, ignore_index=True)\n",
    "education_df = education_df[['FIPS','Name','2013 Rural-urban Continuum Code*','2016-2020','state']]\n",
    "education_df.columns = ['FIPS','county_name','rural-urban-continuum-code','perc-college-educated-2016-2020','state']\n",
    "education_df = education_df[~education_df['perc-college-educated-2016-2020'].isnull()]"
   ]
  },
  {
   "cell_type": "code",
   "execution_count": 5,
   "id": "02841206",
   "metadata": {},
   "outputs": [
    {
     "data": {
      "text/html": [
       "<div>\n",
       "<style scoped>\n",
       "    .dataframe tbody tr th:only-of-type {\n",
       "        vertical-align: middle;\n",
       "    }\n",
       "\n",
       "    .dataframe tbody tr th {\n",
       "        vertical-align: top;\n",
       "    }\n",
       "\n",
       "    .dataframe thead th {\n",
       "        text-align: right;\n",
       "    }\n",
       "</style>\n",
       "<table border=\"1\" class=\"dataframe\">\n",
       "  <thead>\n",
       "    <tr style=\"text-align: right;\">\n",
       "      <th></th>\n",
       "      <th>FIPS</th>\n",
       "      <th>county_name</th>\n",
       "      <th>rural-urban-continuum-code</th>\n",
       "      <th>perc-college-educated-2016-2020</th>\n",
       "      <th>state</th>\n",
       "    </tr>\n",
       "  </thead>\n",
       "  <tbody>\n",
       "    <tr>\n",
       "      <th>0</th>\n",
       "      <td>53001</td>\n",
       "      <td>Adams, WA</td>\n",
       "      <td>6</td>\n",
       "      <td>0.138165</td>\n",
       "      <td>Washington</td>\n",
       "    </tr>\n",
       "    <tr>\n",
       "      <th>1</th>\n",
       "      <td>53003</td>\n",
       "      <td>Asotin, WA</td>\n",
       "      <td>3</td>\n",
       "      <td>0.233691</td>\n",
       "      <td>Washington</td>\n",
       "    </tr>\n",
       "    <tr>\n",
       "      <th>2</th>\n",
       "      <td>53005</td>\n",
       "      <td>Benton, WA</td>\n",
       "      <td>2</td>\n",
       "      <td>0.315854</td>\n",
       "      <td>Washington</td>\n",
       "    </tr>\n",
       "    <tr>\n",
       "      <th>3</th>\n",
       "      <td>53007</td>\n",
       "      <td>Chelan, WA</td>\n",
       "      <td>3</td>\n",
       "      <td>0.263702</td>\n",
       "      <td>Washington</td>\n",
       "    </tr>\n",
       "    <tr>\n",
       "      <th>4</th>\n",
       "      <td>53009</td>\n",
       "      <td>Clallam, WA</td>\n",
       "      <td>5</td>\n",
       "      <td>0.288448</td>\n",
       "      <td>Washington</td>\n",
       "    </tr>\n",
       "  </tbody>\n",
       "</table>\n",
       "</div>"
      ],
      "text/plain": [
       "    FIPS          county_name rural-urban-continuum-code  \\\n",
       "0  53001    Adams, WA                                  6   \n",
       "1  53003   Asotin, WA                                  3   \n",
       "2  53005   Benton, WA                                  2   \n",
       "3  53007   Chelan, WA                                  3   \n",
       "4  53009  Clallam, WA                                  5   \n",
       "\n",
       "  perc-college-educated-2016-2020       state  \n",
       "0                        0.138165  Washington  \n",
       "1                        0.233691  Washington  \n",
       "2                        0.315854  Washington  \n",
       "3                        0.263702  Washington  \n",
       "4                        0.288448  Washington  "
      ]
     },
     "execution_count": 5,
     "metadata": {},
     "output_type": "execute_result"
    }
   ],
   "source": [
    "education_df.head()"
   ]
  },
  {
   "cell_type": "code",
   "execution_count": 6,
   "id": "fac7d231",
   "metadata": {},
   "outputs": [],
   "source": [
    "def county_name(x):\n",
    "    try:\n",
    "        return x.split(', ')[0]\n",
    "    except:\n",
    "        return x"
   ]
  },
  {
   "cell_type": "code",
   "execution_count": 7,
   "id": "3ebe727f",
   "metadata": {},
   "outputs": [],
   "source": [
    "education_df['county_name'] = education_df['county_name'].apply(county_name)"
   ]
  },
  {
   "cell_type": "code",
   "execution_count": 8,
   "id": "8e6fc18b",
   "metadata": {},
   "outputs": [
    {
     "data": {
      "text/html": [
       "<div>\n",
       "<style scoped>\n",
       "    .dataframe tbody tr th:only-of-type {\n",
       "        vertical-align: middle;\n",
       "    }\n",
       "\n",
       "    .dataframe tbody tr th {\n",
       "        vertical-align: top;\n",
       "    }\n",
       "\n",
       "    .dataframe thead th {\n",
       "        text-align: right;\n",
       "    }\n",
       "</style>\n",
       "<table border=\"1\" class=\"dataframe\">\n",
       "  <thead>\n",
       "    <tr style=\"text-align: right;\">\n",
       "      <th></th>\n",
       "      <th>FIPS</th>\n",
       "      <th>county_name</th>\n",
       "      <th>rural-urban-continuum-code</th>\n",
       "      <th>perc-college-educated-2016-2020</th>\n",
       "      <th>state</th>\n",
       "    </tr>\n",
       "  </thead>\n",
       "  <tbody>\n",
       "    <tr>\n",
       "      <th>0</th>\n",
       "      <td>53001</td>\n",
       "      <td>Adams</td>\n",
       "      <td>6</td>\n",
       "      <td>0.138165</td>\n",
       "      <td>Washington</td>\n",
       "    </tr>\n",
       "    <tr>\n",
       "      <th>1</th>\n",
       "      <td>53003</td>\n",
       "      <td>Asotin</td>\n",
       "      <td>3</td>\n",
       "      <td>0.233691</td>\n",
       "      <td>Washington</td>\n",
       "    </tr>\n",
       "    <tr>\n",
       "      <th>2</th>\n",
       "      <td>53005</td>\n",
       "      <td>Benton</td>\n",
       "      <td>2</td>\n",
       "      <td>0.315854</td>\n",
       "      <td>Washington</td>\n",
       "    </tr>\n",
       "    <tr>\n",
       "      <th>3</th>\n",
       "      <td>53007</td>\n",
       "      <td>Chelan</td>\n",
       "      <td>3</td>\n",
       "      <td>0.263702</td>\n",
       "      <td>Washington</td>\n",
       "    </tr>\n",
       "    <tr>\n",
       "      <th>4</th>\n",
       "      <td>53009</td>\n",
       "      <td>Clallam</td>\n",
       "      <td>5</td>\n",
       "      <td>0.288448</td>\n",
       "      <td>Washington</td>\n",
       "    </tr>\n",
       "  </tbody>\n",
       "</table>\n",
       "</div>"
      ],
      "text/plain": [
       "    FIPS county_name rural-urban-continuum-code  \\\n",
       "0  53001       Adams                          6   \n",
       "1  53003      Asotin                          3   \n",
       "2  53005      Benton                          2   \n",
       "3  53007      Chelan                          3   \n",
       "4  53009     Clallam                          5   \n",
       "\n",
       "  perc-college-educated-2016-2020       state  \n",
       "0                        0.138165  Washington  \n",
       "1                        0.233691  Washington  \n",
       "2                        0.315854  Washington  \n",
       "3                        0.263702  Washington  \n",
       "4                        0.288448  Washington  "
      ]
     },
     "execution_count": 8,
     "metadata": {},
     "output_type": "execute_result"
    }
   ],
   "source": [
    "education_df.head()"
   ]
  },
  {
   "cell_type": "code",
   "execution_count": 9,
   "id": "473542c3",
   "metadata": {},
   "outputs": [],
   "source": [
    "education_df['perc-college-educated-2016-2020'] = education_df['perc-college-educated-2016-2020'].astype('float')"
   ]
  },
  {
   "cell_type": "code",
   "execution_count": 10,
   "id": "cdb123e3",
   "metadata": {},
   "outputs": [
    {
     "data": {
      "text/plain": [
       "FIPS                                object\n",
       "county_name                         object\n",
       "rural-urban-continuum-code          object\n",
       "perc-college-educated-2016-2020    float64\n",
       "state                               object\n",
       "dtype: object"
      ]
     },
     "execution_count": 10,
     "metadata": {},
     "output_type": "execute_result"
    }
   ],
   "source": [
    "education_df.dtypes"
   ]
  },
  {
   "cell_type": "code",
   "execution_count": 11,
   "id": "3975726b",
   "metadata": {},
   "outputs": [],
   "source": [
    "education_df.to_csv('CLEANED county_education BACKUP.csv')"
   ]
  },
  {
   "cell_type": "markdown",
   "id": "e2dce1fa",
   "metadata": {},
   "source": [
    "# Read in and clean poverty data."
   ]
  },
  {
   "cell_type": "code",
   "execution_count": 12,
   "id": "9916745b",
   "metadata": {},
   "outputs": [
    {
     "data": {
      "text/html": [
       "<div>\n",
       "<style scoped>\n",
       "    .dataframe tbody tr th:only-of-type {\n",
       "        vertical-align: middle;\n",
       "    }\n",
       "\n",
       "    .dataframe tbody tr th {\n",
       "        vertical-align: top;\n",
       "    }\n",
       "\n",
       "    .dataframe thead th {\n",
       "        text-align: right;\n",
       "    }\n",
       "</style>\n",
       "<table border=\"1\" class=\"dataframe\">\n",
       "  <thead>\n",
       "    <tr style=\"text-align: right;\">\n",
       "      <th></th>\n",
       "      <th>FIPS</th>\n",
       "      <th>county_name</th>\n",
       "      <th>rural-urban-continuum-code</th>\n",
       "      <th>perc_people_poverty_2020</th>\n",
       "      <th>perc_children_poverty_2020</th>\n",
       "      <th>state</th>\n",
       "    </tr>\n",
       "  </thead>\n",
       "  <tbody>\n",
       "    <tr>\n",
       "      <th>0</th>\n",
       "      <td>53001</td>\n",
       "      <td>Adams</td>\n",
       "      <td>6</td>\n",
       "      <td>12.7</td>\n",
       "      <td>17.0</td>\n",
       "      <td>Washington</td>\n",
       "    </tr>\n",
       "    <tr>\n",
       "      <th>1</th>\n",
       "      <td>53003</td>\n",
       "      <td>Asotin</td>\n",
       "      <td>3</td>\n",
       "      <td>14.1</td>\n",
       "      <td>18.5</td>\n",
       "      <td>Washington</td>\n",
       "    </tr>\n",
       "    <tr>\n",
       "      <th>2</th>\n",
       "      <td>53005</td>\n",
       "      <td>Benton</td>\n",
       "      <td>2</td>\n",
       "      <td>9.1</td>\n",
       "      <td>11.5</td>\n",
       "      <td>Washington</td>\n",
       "    </tr>\n",
       "    <tr>\n",
       "      <th>3</th>\n",
       "      <td>53007</td>\n",
       "      <td>Chelan</td>\n",
       "      <td>3</td>\n",
       "      <td>8.3</td>\n",
       "      <td>11.6</td>\n",
       "      <td>Washington</td>\n",
       "    </tr>\n",
       "    <tr>\n",
       "      <th>4</th>\n",
       "      <td>53009</td>\n",
       "      <td>Clallam</td>\n",
       "      <td>5</td>\n",
       "      <td>13.3</td>\n",
       "      <td>18.9</td>\n",
       "      <td>Washington</td>\n",
       "    </tr>\n",
       "  </tbody>\n",
       "</table>\n",
       "</div>"
      ],
      "text/plain": [
       "    FIPS county_name rural-urban-continuum-code perc_people_poverty_2020  \\\n",
       "0  53001       Adams                          6                     12.7   \n",
       "1  53003      Asotin                          3                     14.1   \n",
       "2  53005      Benton                          2                      9.1   \n",
       "3  53007      Chelan                          3                      8.3   \n",
       "4  53009     Clallam                          5                     13.3   \n",
       "\n",
       "  perc_children_poverty_2020       state  \n",
       "0                       17.0  Washington  \n",
       "1                       18.5  Washington  \n",
       "2                       11.5  Washington  \n",
       "3                       11.6  Washington  \n",
       "4                       18.9  Washington  "
      ]
     },
     "execution_count": 12,
     "metadata": {},
     "output_type": "execute_result"
    }
   ],
   "source": [
    "poverty_df = []\n",
    "\n",
    "for state in states:\n",
    "    path = filepath(state, 'usda/poverty/')\n",
    "    frame = pd.read_excel(path)\n",
    "    frame.columns = frame.iloc[3]\n",
    "    frame['state'] = state\n",
    "\n",
    "    poverty_df.append(frame[5:-4])\n",
    "    \n",
    "poverty_df = pd.concat(poverty_df, ignore_index=True)\n",
    "poverty_df.columns = ['FIPS','DROP1','DROP2','county_name','DROP3','rural-urban-continuum-code','perc_people_poverty_2020','DROP4',\n",
    "                      'DROP5','perc_children_poverty_2020','DROP6','DROP7','state']\n",
    "poverty_df.drop(columns=['DROP1','DROP2','DROP3','DROP4','DROP5','DROP6','DROP7'],inplace=True)\n",
    "\n",
    "poverty_df.head()"
   ]
  },
  {
   "cell_type": "code",
   "execution_count": 13,
   "id": "37c51877",
   "metadata": {},
   "outputs": [],
   "source": [
    "def float_it(x):\n",
    "    return float(x)/100\n",
    "\n",
    "poverty_df['perc_people_poverty_2020'] = poverty_df['perc_people_poverty_2020'].apply(float_it)\n",
    "poverty_df['perc_children_poverty_2020'] = poverty_df['perc_children_poverty_2020'].apply(float_it)"
   ]
  },
  {
   "cell_type": "code",
   "execution_count": 14,
   "id": "b7812b5e",
   "metadata": {},
   "outputs": [
    {
     "data": {
      "text/plain": [
       "FIPS                           object\n",
       "county_name                    object\n",
       "rural-urban-continuum-code     object\n",
       "perc_people_poverty_2020      float64\n",
       "perc_children_poverty_2020    float64\n",
       "state                          object\n",
       "dtype: object"
      ]
     },
     "execution_count": 14,
     "metadata": {},
     "output_type": "execute_result"
    }
   ],
   "source": [
    "poverty_df.dtypes"
   ]
  },
  {
   "cell_type": "code",
   "execution_count": 15,
   "id": "55873f7c",
   "metadata": {},
   "outputs": [],
   "source": [
    "poverty_df.to_csv('CLEANED county_poverty BACKUP.csv')"
   ]
  },
  {
   "cell_type": "markdown",
   "id": "5cbdf8b0",
   "metadata": {},
   "source": [
    "# Read in and clean unemployment."
   ]
  },
  {
   "cell_type": "code",
   "execution_count": 16,
   "id": "283f0454",
   "metadata": {},
   "outputs": [],
   "source": [
    "unemployment_df = []\n",
    "\n",
    "for state in states:\n",
    "    path = filepath(state, 'usda/unemployment/')\n",
    "    frame = pd.read_excel(path)\n",
    "    frame.columns = ['DROP1','FIPS','county_name','2013','2014','2015','2016','2017','2018',\n",
    "                     '2019','2020','perc_unemployed_2021','median_hh_income','DROP2','perc_state_median_hh_income']\n",
    "    frame['state'] = state\n",
    "\n",
    "    unemployment_df.append(frame[3:-2])\n",
    "    \n",
    "unemployment_df = pd.concat(unemployment_df, ignore_index=True)\n",
    "unemployment_df.drop(columns=['DROP1','DROP2','2013','2014','2015','2016','2017','2018','2019','2020'],inplace=True)"
   ]
  },
  {
   "cell_type": "code",
   "execution_count": 17,
   "id": "d28b156b",
   "metadata": {},
   "outputs": [],
   "source": [
    "def county_name(x):\n",
    "    try:\n",
    "        return x.replace(' County','').split(', ')[0]\n",
    "    except:\n",
    "        return x"
   ]
  },
  {
   "cell_type": "code",
   "execution_count": 18,
   "id": "cdfd97bf",
   "metadata": {},
   "outputs": [],
   "source": [
    "unemployment_df['county_name'] = unemployment_df['county_name'].apply(county_name)"
   ]
  },
  {
   "cell_type": "code",
   "execution_count": 19,
   "id": "179a9e1e",
   "metadata": {},
   "outputs": [
    {
     "data": {
      "text/html": [
       "<div>\n",
       "<style scoped>\n",
       "    .dataframe tbody tr th:only-of-type {\n",
       "        vertical-align: middle;\n",
       "    }\n",
       "\n",
       "    .dataframe tbody tr th {\n",
       "        vertical-align: top;\n",
       "    }\n",
       "\n",
       "    .dataframe thead th {\n",
       "        text-align: right;\n",
       "    }\n",
       "</style>\n",
       "<table border=\"1\" class=\"dataframe\">\n",
       "  <thead>\n",
       "    <tr style=\"text-align: right;\">\n",
       "      <th></th>\n",
       "      <th>FIPS</th>\n",
       "      <th>county_name</th>\n",
       "      <th>perc_unemployed_2021</th>\n",
       "      <th>median_hh_income</th>\n",
       "      <th>perc_state_median_hh_income</th>\n",
       "      <th>state</th>\n",
       "    </tr>\n",
       "  </thead>\n",
       "  <tbody>\n",
       "    <tr>\n",
       "      <th>0</th>\n",
       "      <td>53001</td>\n",
       "      <td>Adams</td>\n",
       "      <td>5.5</td>\n",
       "      <td>56421</td>\n",
       "      <td>0.702461</td>\n",
       "      <td>Washington</td>\n",
       "    </tr>\n",
       "    <tr>\n",
       "      <th>1</th>\n",
       "      <td>53003</td>\n",
       "      <td>Asotin</td>\n",
       "      <td>3.7</td>\n",
       "      <td>53377</td>\n",
       "      <td>0.664563</td>\n",
       "      <td>Washington</td>\n",
       "    </tr>\n",
       "    <tr>\n",
       "      <th>2</th>\n",
       "      <td>53005</td>\n",
       "      <td>Benton</td>\n",
       "      <td>5.6</td>\n",
       "      <td>75882</td>\n",
       "      <td>0.944758</td>\n",
       "      <td>Washington</td>\n",
       "    </tr>\n",
       "    <tr>\n",
       "      <th>3</th>\n",
       "      <td>53007</td>\n",
       "      <td>Chelan</td>\n",
       "      <td>5.3</td>\n",
       "      <td>61546</td>\n",
       "      <td>0.76627</td>\n",
       "      <td>Washington</td>\n",
       "    </tr>\n",
       "    <tr>\n",
       "      <th>4</th>\n",
       "      <td>53009</td>\n",
       "      <td>Clallam</td>\n",
       "      <td>6.5</td>\n",
       "      <td>54712</td>\n",
       "      <td>0.681184</td>\n",
       "      <td>Washington</td>\n",
       "    </tr>\n",
       "  </tbody>\n",
       "</table>\n",
       "</div>"
      ],
      "text/plain": [
       "    FIPS county_name  perc_unemployed_2021 median_hh_income  \\\n",
       "0  53001       Adams                   5.5            56421   \n",
       "1  53003      Asotin                   3.7            53377   \n",
       "2  53005      Benton                   5.6            75882   \n",
       "3  53007      Chelan                   5.3            61546   \n",
       "4  53009     Clallam                   6.5            54712   \n",
       "\n",
       "  perc_state_median_hh_income       state  \n",
       "0                    0.702461  Washington  \n",
       "1                    0.664563  Washington  \n",
       "2                    0.944758  Washington  \n",
       "3                     0.76627  Washington  \n",
       "4                    0.681184  Washington  "
      ]
     },
     "execution_count": 19,
     "metadata": {},
     "output_type": "execute_result"
    }
   ],
   "source": [
    "unemployment_df.head()"
   ]
  },
  {
   "cell_type": "code",
   "execution_count": 20,
   "id": "3f06ce95",
   "metadata": {},
   "outputs": [],
   "source": [
    "unemployment_df['perc_unemployed_2021'] = unemployment_df['perc_unemployed_2021'].apply(float_it)\n",
    "unemployment_df['median_hh_income'] = unemployment_df['median_hh_income'].astype('int')\n",
    "unemployment_df['perc_state_median_hh_income'] = unemployment_df['perc_state_median_hh_income'].astype('float')"
   ]
  },
  {
   "cell_type": "code",
   "execution_count": 21,
   "id": "b05b32dc",
   "metadata": {},
   "outputs": [
    {
     "data": {
      "text/plain": [
       "FIPS                            object\n",
       "county_name                     object\n",
       "perc_unemployed_2021           float64\n",
       "median_hh_income                 int64\n",
       "perc_state_median_hh_income    float64\n",
       "state                           object\n",
       "dtype: object"
      ]
     },
     "execution_count": 21,
     "metadata": {},
     "output_type": "execute_result"
    }
   ],
   "source": [
    "unemployment_df.dtypes"
   ]
  },
  {
   "cell_type": "code",
   "execution_count": 22,
   "id": "047f58ff",
   "metadata": {},
   "outputs": [],
   "source": [
    "unemployment_df.to_csv('CLEANED county_unemployment BACKUP.csv')"
   ]
  },
  {
   "cell_type": "markdown",
   "id": "bcfb9948",
   "metadata": {},
   "source": [
    "# Read in and clean National and State Park data."
   ]
  },
  {
   "cell_type": "code",
   "execution_count": 23,
   "id": "10aa83e3",
   "metadata": {},
   "outputs": [],
   "source": [
    "parks_df = pd.read_csv('natl_state_park_by_us_state.csv')"
   ]
  },
  {
   "cell_type": "code",
   "execution_count": 24,
   "id": "59ea0eca",
   "metadata": {},
   "outputs": [
    {
     "data": {
      "text/html": [
       "<div>\n",
       "<style scoped>\n",
       "    .dataframe tbody tr th:only-of-type {\n",
       "        vertical-align: middle;\n",
       "    }\n",
       "\n",
       "    .dataframe tbody tr th {\n",
       "        vertical-align: top;\n",
       "    }\n",
       "\n",
       "    .dataframe thead th {\n",
       "        text-align: right;\n",
       "    }\n",
       "</style>\n",
       "<table border=\"1\" class=\"dataframe\">\n",
       "  <thead>\n",
       "    <tr style=\"text-align: right;\">\n",
       "      <th></th>\n",
       "      <th>state</th>\n",
       "      <th>count_state_park</th>\n",
       "      <th>count_national_park</th>\n",
       "      <th>percent_park</th>\n",
       "    </tr>\n",
       "  </thead>\n",
       "  <tbody>\n",
       "    <tr>\n",
       "      <th>0</th>\n",
       "      <td>California</td>\n",
       "      <td>270</td>\n",
       "      <td>9</td>\n",
       "      <td>0.0749</td>\n",
       "    </tr>\n",
       "    <tr>\n",
       "      <th>1</th>\n",
       "      <td>Oregon</td>\n",
       "      <td>195</td>\n",
       "      <td>1</td>\n",
       "      <td>0.0046</td>\n",
       "    </tr>\n",
       "    <tr>\n",
       "      <th>2</th>\n",
       "      <td>Washington</td>\n",
       "      <td>212</td>\n",
       "      <td>3</td>\n",
       "      <td>0.0393</td>\n",
       "    </tr>\n",
       "    <tr>\n",
       "      <th>3</th>\n",
       "      <td>Idaho</td>\n",
       "      <td>32</td>\n",
       "      <td>1</td>\n",
       "      <td>0.0016</td>\n",
       "    </tr>\n",
       "    <tr>\n",
       "      <th>4</th>\n",
       "      <td>Nevada</td>\n",
       "      <td>23</td>\n",
       "      <td>0</td>\n",
       "      <td>0.0031</td>\n",
       "    </tr>\n",
       "  </tbody>\n",
       "</table>\n",
       "</div>"
      ],
      "text/plain": [
       "        state  count_state_park  count_national_park  percent_park\n",
       "0  California               270                    9        0.0749\n",
       "1      Oregon               195                    1        0.0046\n",
       "2  Washington               212                    3        0.0393\n",
       "3       Idaho                32                    1        0.0016\n",
       "4      Nevada                23                    0        0.0031"
      ]
     },
     "execution_count": 24,
     "metadata": {},
     "output_type": "execute_result"
    }
   ],
   "source": [
    "parks_df.head()"
   ]
  },
  {
   "cell_type": "code",
   "execution_count": 25,
   "id": "3f073df7",
   "metadata": {},
   "outputs": [
    {
     "data": {
      "text/plain": [
       "state                   object\n",
       "count_state_park         int64\n",
       "count_national_park      int64\n",
       "percent_park           float64\n",
       "dtype: object"
      ]
     },
     "execution_count": 25,
     "metadata": {},
     "output_type": "execute_result"
    }
   ],
   "source": [
    "parks_df.dtypes"
   ]
  },
  {
   "cell_type": "code",
   "execution_count": 26,
   "id": "4b6a18b2",
   "metadata": {},
   "outputs": [],
   "source": [
    "parks_df.to_csv('CLEANED state_natl_state_parks BACKUP.csv')"
   ]
  },
  {
   "cell_type": "code",
   "execution_count": null,
   "id": "1ef316fb",
   "metadata": {},
   "outputs": [],
   "source": []
  }
 ],
 "metadata": {
  "kernelspec": {
   "display_name": "Python 3",
   "language": "python",
   "name": "python3"
  },
  "language_info": {
   "codemirror_mode": {
    "name": "ipython",
    "version": 3
   },
   "file_extension": ".py",
   "mimetype": "text/x-python",
   "name": "python",
   "nbconvert_exporter": "python",
   "pygments_lexer": "ipython3",
   "version": "3.8.8"
  }
 },
 "nbformat": 4,
 "nbformat_minor": 5
}
